{
  "cells": [
    {
      "cell_type": "markdown",
      "metadata": {
        "id": "view-in-github",
        "colab_type": "text"
      },
      "source": [
        "<a href=\"https://colab.research.google.com/github/sdgroeve/Machine-Learning-Course-2days/blob/main/mnist.ipynb\" target=\"_parent\"><img src=\"https://colab.research.google.com/assets/colab-badge.svg\" alt=\"Open In Colab\"/></a>"
      ]
    },
    {
      "cell_type": "code",
      "execution_count": null,
      "metadata": {
        "id": "LNUgDFfHCN9C"
      },
      "outputs": [],
      "source": [
        "import warnings\n",
        "warnings.filterwarnings('ignore')"
      ]
    },
    {
      "cell_type": "markdown",
      "metadata": {
        "id": "41-QVpqtCN9E"
      },
      "source": [
        "# MNIST digit classification\n",
        "\n",
        "## 1. The dataset\n",
        "\n",
        "The MNIST dataset<sup>1</sup> (Modified National Institute of Standards and Technology dataset) is a large dataset containing pre-processed **28x28 pixel** images of handwritten digits. The dataset is widely used for teaching machine learning concepts.\n",
        "\n",
        "<sub>[1] THE MNIST DATABASE of handwritten digits, Yann LeCun, Courant Institute, NYU Corinna Cortes, Google Labs, New York Christopher J.C. Burges, Microsoft Research, Redmond.</sub>"
      ]
    },
    {
      "cell_type": "markdown",
      "metadata": {
        "id": "nWEl69YjCN9H"
      },
      "source": [
        "Let's load this dataset straight from the [openml.org](https://www.openml.org/) public repository with the following Scikit-learn function:"
      ]
    },
    {
      "cell_type": "code",
      "execution_count": null,
      "metadata": {
        "id": "ZGJnZj0fLtCU"
      },
      "outputs": [],
      "source": [
        "from sklearn.datasets import fetch_openml\n",
        "\n",
        "mnist = fetch_openml('mnist_784', as_frame=False, cache=True)"
      ]
    },
    {
      "cell_type": "markdown",
      "metadata": {
        "id": "UySLb5ZeCN9J"
      },
      "source": [
        "The `fetch_openml()` function returns a Python [dictionary-like object](https://scikit-learn.org/stable/modules/generated/sklearn.datasets.fetch_openml.html).\n",
        "\n",
        "The actual data can be obtained with the following keys:\n",
        "\n",
        "- data: np.array, scipy.sparse.csr_matrix of floats, or pandas DataFrame\n",
        "- target: np.array, pandas Series or DataFrame\n",
        "\n",
        "This dataset contains 70000 labeled images of digits:"
      ]
    },
    {
      "cell_type": "code",
      "source": [
        "print(\"#datapoints: {}\".format(len(mnist.data)))"
      ],
      "metadata": {
        "id": "YvlMC1uxPQ_X"
      },
      "execution_count": null,
      "outputs": []
    },
    {
      "cell_type": "markdown",
      "source": [
        "Let's explore the feature vectors:"
      ],
      "metadata": {
        "id": "DWKPMyyDU6Gk"
      }
    },
    {
      "cell_type": "code",
      "execution_count": null,
      "metadata": {
        "id": "OZajNV0_CN9J"
      },
      "outputs": [],
      "source": [
        "print(\"Length of feature vector: {}\\n\".format(len(mnist.data[0])))\n",
        "print(\"Example of feature vector:\\n\")\n",
        "print(mnist.data[0])"
      ]
    },
    {
      "cell_type": "markdown",
      "metadata": {
        "id": "78boMgKaCN9K"
      },
      "source": [
        "Each image in the dataset is represented by a 784 dimensional vector with one gray-scale value (0 means black, 255 means white) for each of the 28x28 pixels.\n",
        "\n",
        "We can reshape this feature vector to the gray-scaled image as follows:"
      ]
    },
    {
      "cell_type": "code",
      "execution_count": null,
      "metadata": {
        "id": "9EvyOYNcCN9L"
      },
      "outputs": [],
      "source": [
        "mnist.data[0].reshape((28,28))"
      ]
    },
    {
      "cell_type": "markdown",
      "metadata": {
        "id": "7e5TjIDpCN9L"
      },
      "source": [
        "We will denote the feature vectors as `X` and the corresponding labels as `y`:"
      ]
    },
    {
      "cell_type": "code",
      "execution_count": null,
      "metadata": {
        "id": "qk6672_eCN9M"
      },
      "outputs": [],
      "source": [
        "X = mnist.data\n",
        "y = mnist.target\n",
        "\n",
        "print(X.dtype)\n",
        "print(y.dtype)"
      ]
    },
    {
      "cell_type": "markdown",
      "metadata": {
        "id": "dNRhftMXCN9N"
      },
      "source": [
        "Notice that the labels are Python objects (strings):"
      ]
    },
    {
      "cell_type": "code",
      "execution_count": null,
      "metadata": {
        "id": "Tn8s9o7bCN9O"
      },
      "outputs": [],
      "source": [
        "print(y)"
      ]
    },
    {
      "cell_type": "markdown",
      "metadata": {
        "id": "OkgQIo4bCN9O"
      },
      "source": [
        "We convert these to numbers (integers):"
      ]
    },
    {
      "cell_type": "code",
      "execution_count": null,
      "metadata": {
        "id": "WhP5eKg_CN9P"
      },
      "outputs": [],
      "source": [
        "y = y.astype('int64')"
      ]
    },
    {
      "cell_type": "markdown",
      "metadata": {
        "id": "eupOYSl8CN9P"
      },
      "source": [
        "We can use the Python [matplotlib](https://matplotlib.org/) library to plot the digit images in `X` (the label for each image is shown in the title):"
      ]
    },
    {
      "cell_type": "code",
      "execution_count": null,
      "metadata": {
        "id": "wk9P2m_oMTKe"
      },
      "outputs": [],
      "source": [
        "import matplotlib.pyplot as plt\n",
        "from random import randint\n",
        "\n",
        "# Display 9 randomly selected images\n",
        "for c in range(1, 10):\n",
        "    plt.subplot(3, 3,c)\n",
        "    i = randint(0,X.shape[0])\n",
        "    im = X[i].reshape((28,28))\n",
        "    plt.axis(\"off\")\n",
        "    plt.title(\"Label = {}\".format(y[i]))\n",
        "    plt.imshow(im, cmap='gray')"
      ]
    },
    {
      "cell_type": "markdown",
      "metadata": {
        "id": "Wl8qUpQtCN9Q"
      },
      "source": [
        "It is 'best practice' in Machine Learning to normalize the feature values such that all features have values with the same 'not to large' scale.\n",
        "\n",
        "Scikit-learn has functions to normalize features in `sklearn.preprocessing`. The most common ones are [`MinMaxScaler()`](https://scikit-learn.org/stable/modules/generated/sklearn.preprocessing.MinMaxScaler.html) and [`StandardScaler()`](https://scikit-learn.org/stable/modules/generated/sklearn.preprocessing.StandardScaler.html).\n",
        "\n",
        "We will use the `MinMaxScaler()`:"
      ]
    },
    {
      "cell_type": "code",
      "execution_count": null,
      "metadata": {
        "id": "12sdoLpZCN9Q"
      },
      "outputs": [],
      "source": [
        "from sklearn.preprocessing import MinMaxScaler\n",
        "\n",
        "X = MinMaxScaler().fit_transform(X)\n",
        "\n",
        "print(X[0])"
      ]
    },
    {
      "cell_type": "markdown",
      "metadata": {
        "id": "FpTEDYnICN9R"
      },
      "source": [
        "To be able to **properly** evaluate our trained model we need to first create an **independent test set** with images that are **not used** during model building:"
      ]
    },
    {
      "cell_type": "code",
      "execution_count": null,
      "metadata": {
        "id": "XQuFEed-McB8"
      },
      "outputs": [],
      "source": [
        "from sklearn.model_selection import train_test_split\n",
        "\n",
        "X_train, X_test, y_train, y_test = train_test_split(X, y, test_size=0.50, shuffle=True, random_state=42)"
      ]
    },
    {
      "cell_type": "markdown",
      "metadata": {
        "id": "t2PANJXvCN9S"
      },
      "source": [
        "## 2. The model\n",
        "\n",
        "Now we are ready to define our model.\n",
        "\n",
        "We will fit a [decision tree](https://scikit-learn.org/stable/modules/generated/sklearn.tree.DecisionTreeClassifier.html) model with a maximum tree depth equal to 5 and with at least 10 datapoints in each leaf:"
      ]
    },
    {
      "cell_type": "code",
      "execution_count": null,
      "metadata": {
        "id": "ex08esqVOSYv"
      },
      "outputs": [],
      "source": [
        "from sklearn.tree import DecisionTreeClassifier\n",
        "\n",
        "clf = DecisionTreeClassifier(max_depth=5, min_samples_leaf=10)"
      ]
    },
    {
      "cell_type": "markdown",
      "metadata": {
        "id": "jQO0xVmRCN9T"
      },
      "source": [
        "Each Scikit-learn model has a function `fit()` that optimizes the modelparameters to minimize the cost function:"
      ]
    },
    {
      "cell_type": "code",
      "execution_count": null,
      "metadata": {
        "id": "utVxm0K7CN9U"
      },
      "outputs": [],
      "source": [
        "clf.fit(X_train,y_train)"
      ]
    },
    {
      "cell_type": "markdown",
      "metadata": {
        "id": "cm35GlpvCN9W"
      },
      "source": [
        "Each Scikit-learn model also has a function `predict()` that applies the fitted model to compute class lables for feature vectors:"
      ]
    },
    {
      "cell_type": "code",
      "execution_count": null,
      "metadata": {
        "id": "8Kr2uTG6CN9W"
      },
      "outputs": [],
      "source": [
        "# Perform the predictions\n",
        "y_predicted = clf.predict(X_test)\n",
        "\n",
        "print(y_predicted)"
      ]
    },
    {
      "cell_type": "markdown",
      "metadata": {
        "id": "a5M754QuCN9W"
      },
      "source": [
        "## 3. Evaluation\n",
        "\n",
        "Scikit-learn offers many [metrics](https://scikit-learn.org/stable/modules/model_evaluation.html) for evaluating the prediction performance. The most common metric is `accuracy`:"
      ]
    },
    {
      "cell_type": "code",
      "execution_count": null,
      "metadata": {
        "id": "Sk5OTSWvCN9W"
      },
      "outputs": [],
      "source": [
        "from sklearn.metrics import accuracy_score\n",
        "\n",
        "print(\"Accuracy = {}%\".format(accuracy_score(y_test, y_predicted)*100))"
      ]
    },
    {
      "cell_type": "markdown",
      "metadata": {
        "id": "hfhXWlYvCN9X"
      },
      "source": [
        "To get more insight into the prediction errors for each class we can compute a confusion matrix:"
      ]
    },
    {
      "cell_type": "code",
      "execution_count": null,
      "metadata": {
        "id": "uB9LvM1eO3dX"
      },
      "outputs": [],
      "source": [
        "from sklearn.metrics import ConfusionMatrixDisplay\n",
        "\n",
        "ConfusionMatrixDisplay.from_predictions(y_test, y_predicted)\n",
        "plt.show()"
      ]
    },
    {
      "cell_type": "markdown",
      "metadata": {
        "id": "zJvaMTC2CN9Y"
      },
      "source": [
        "Now, let's take a look a the misclassified images in the test set:"
      ]
    },
    {
      "cell_type": "code",
      "execution_count": null,
      "metadata": {
        "id": "bPKWegNvQXvg"
      },
      "outputs": [],
      "source": [
        "index = 0\n",
        "misclassified_images = []\n",
        "for label, predict in zip(y_test, y_predicted):\n",
        "    if label != predict:\n",
        "        misclassified_images.append(index)\n",
        "    index +=1\n",
        "\n",
        "print(\"Number of misclassified test set images: {}\".format(len(misclassified_images)))"
      ]
    },
    {
      "cell_type": "markdown",
      "metadata": {
        "id": "RmFlNCXVUZy5",
        "outputId": "68b7c420-ceb9-45a6-c97b-97ae36ef75e7"
      },
      "source": [
        "Let's plot some of these:"
      ]
    },
    {
      "cell_type": "code",
      "execution_count": null,
      "metadata": {
        "id": "D4BHrTiEUcMJ"
      },
      "outputs": [],
      "source": [
        "plt.figure(figsize=(10,10))\n",
        "for plot_index, bad_index in enumerate(misclassified_images[0:20]):\n",
        "    p = plt.subplot(4,5, plot_index+1) # 4x5 plot\n",
        "\n",
        "    p.imshow(X_test[bad_index].reshape(28,28), cmap=plt.cm.gray,\n",
        "            interpolation='bilinear')\n",
        "    p.set_xticks(()); p.set_yticks(()) # remove ticks\n",
        "\n",
        "    p.set_title(f'Pred: {y_predicted[bad_index]}, Actual: {y_test[bad_index]}');"
      ]
    },
    {
      "cell_type": "markdown",
      "metadata": {
        "id": "M4sqfqAqCN9Z"
      },
      "source": [
        "## 4. Hyperparameter optimization\n",
        "\n",
        "Scikit-learn offers [many functions](https://scikit-learn.org/stable/modules/grid_search.html) for hyperparameter optimization. We will use `GridSearchCV()` that evaluates different hyperparamter value combinations using cross-validation.\n",
        "\n",
        "In `GridSearchCV()` you define the hyperparameter values to consider in a Python dictionary:  "
      ]
    },
    {
      "cell_type": "code",
      "execution_count": null,
      "metadata": {
        "id": "Va9mCdapCN9a"
      },
      "outputs": [],
      "source": [
        "from sklearn.model_selection import GridSearchCV\n",
        "\n",
        "tune_grid = {\n",
        "            \"max_depth\": [3,7,10],\n",
        "            \"min_samples_split\": [100,1000]\n",
        "        }\n",
        "\n",
        "print(tune_grid)"
      ]
    },
    {
      "cell_type": "markdown",
      "metadata": {
        "id": "BLpwxC2CCN9a"
      },
      "source": [
        "Next, we can initialize `GridSearchCV()` just like any other model in Scikit-learn:"
      ]
    },
    {
      "cell_type": "code",
      "execution_count": null,
      "metadata": {
        "id": "wbD1n_jWCN9a"
      },
      "outputs": [],
      "source": [
        "clf_cv = GridSearchCV(clf, tune_grid, cv=5, verbose=3)"
      ]
    },
    {
      "cell_type": "markdown",
      "metadata": {
        "id": "VIldBidvCN9b"
      },
      "source": [
        "`GridSearchCV()` also has a  `fit()` function that fit all the models and evaluate their prediction performance with the cross-validation procedure:"
      ]
    },
    {
      "cell_type": "code",
      "execution_count": null,
      "metadata": {
        "id": "_NRPKsODcrV2"
      },
      "outputs": [],
      "source": [
        "clf_cv.fit(X_train,y_train)"
      ]
    },
    {
      "cell_type": "markdown",
      "metadata": {
        "id": "1zBiGNqvCN9c"
      },
      "source": [
        "The fitted `GridSearchCV()` has attribute `best_estimator_` that contains the model with the highest cross-validation accuracy **retrained on all the data**.\n",
        "\n",
        "It also has attribute `best_score_` that contains the cross-validation score (accuracy in this case) of the best estimator:"
      ]
    },
    {
      "cell_type": "code",
      "execution_count": null,
      "metadata": {
        "id": "7sG_9VstCN9c"
      },
      "outputs": [],
      "source": [
        "print(clf_cv.best_estimator_)\n",
        "print(clf_cv.best_score_)"
      ]
    },
    {
      "cell_type": "markdown",
      "metadata": {
        "id": "i1srM1rjlav7"
      },
      "source": [
        "A fitted `GridSearchCV()` also has the function `predict()` that applies `best_estimator_` to predict the classes:"
      ]
    },
    {
      "cell_type": "code",
      "execution_count": null,
      "metadata": {
        "id": "5-HwnG9DCN9e"
      },
      "outputs": [],
      "source": [
        "y_predicted = clf_cv.predict(X_test)\n",
        "\n",
        "ConfusionMatrixDisplay.from_predictions(y_test, y_predicted)\n",
        "plt.show()"
      ]
    },
    {
      "cell_type": "markdown",
      "source": [
        "Let's plot some of the misclassified images:"
      ],
      "metadata": {
        "id": "Bm5qG7ejZWXq"
      }
    },
    {
      "cell_type": "code",
      "source": [
        "index = 0\n",
        "misclassified_images = []\n",
        "for label, predict in zip(y_test, y_predicted):\n",
        "    if label != predict:\n",
        "        misclassified_images.append(index)\n",
        "    index +=1\n",
        "\n",
        "print(\"Number of misclassified test set images: {}\".format(len(misclassified_images)))\n",
        "\n",
        "plt.figure(figsize=(10,10))\n",
        "for plot_index, bad_index in enumerate(misclassified_images[0:20]):\n",
        "    p = plt.subplot(4,5, plot_index+1) # 4x5 plot\n",
        "\n",
        "    p.imshow(X_test[bad_index].reshape(28,28), cmap=plt.cm.gray,\n",
        "            interpolation='bilinear')\n",
        "    p.set_xticks(()); p.set_yticks(()) # remove ticks\n",
        "\n",
        "    p.set_title(f'Pred: {y_predicted[bad_index]}, Actual: {y_test[bad_index]}');"
      ],
      "metadata": {
        "id": "PiC4k0KdZMFN"
      },
      "execution_count": null,
      "outputs": []
    },
    {
      "cell_type": "code",
      "source": [],
      "metadata": {
        "id": "ZwHmeCjtZS00"
      },
      "execution_count": null,
      "outputs": []
    }
  ],
  "metadata": {
    "colab": {
      "name": "mnist.ipynb",
      "provenance": [],
      "include_colab_link": true
    },
    "kernelspec": {
      "display_name": "Python 3 (ipykernel)",
      "language": "python",
      "name": "python3"
    },
    "language_info": {
      "codemirror_mode": {
        "name": "ipython",
        "version": 3
      },
      "file_extension": ".py",
      "mimetype": "text/x-python",
      "name": "python",
      "nbconvert_exporter": "python",
      "pygments_lexer": "ipython3",
      "version": "3.9.13"
    }
  },
  "nbformat": 4,
  "nbformat_minor": 0
}